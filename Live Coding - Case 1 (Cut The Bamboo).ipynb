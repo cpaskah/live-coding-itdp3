{
 "cells": [
  {
   "cell_type": "code",
   "execution_count": 1,
   "id": "30a487f9",
   "metadata": {},
   "outputs": [
    {
     "name": "stdout",
     "output_type": "stream",
     "text": [
      "bamboos: 3,2,2\n",
      "cuts: 2\n",
      "initials\n",
      "|---\n",
      "|--\n",
      "|--\n",
      "cycle cuts: 1\n",
      "|--\n",
      "|-\n",
      "|-\n",
      "cycle cuts: 2\n",
      "|-\n",
      "|\n",
      "|\n"
     ]
    }
   ],
   "source": [
    "bamboos = input(\"bamboos: \") #input bamboos string\n",
    "bamboosList = bamboos.split(\",\") #split bamboos string -> list dengan separator koma\n",
    "cuts = int(input(\"cuts: \")) #input cuts integer\n",
    "\n",
    "for i in range(cuts+1): \n",
    "    if i == 0: #saat 0 -> initials\n",
    "        text = \"initials\"\n",
    "    else : #selain 0 -> cycle cuts\n",
    "        text=f\"cycle cuts: {i}\"\n",
    "    print(text)\n",
    "    for j in bamboosList:\n",
    "        print(f'|{\"-\"*(int(j)-i)}', ) #f-string python -> f'{value}', agar bisa langsung masukkan value di string"
   ]
  },
  {
   "cell_type": "code",
   "execution_count": 2,
   "id": "d7a481ba",
   "metadata": {},
   "outputs": [
    {
     "name": "stdout",
     "output_type": "stream",
     "text": [
      "Bamboos : 5,3,2,7,1\n",
      "Cuts : 3\n",
      "initials\n",
      "|-----\n",
      "|---\n",
      "|--\n",
      "|-------\n",
      "|-\n",
      "cycle cuts: 1\n",
      "|----\n",
      "|--\n",
      "|-\n",
      "|------\n",
      "|\n",
      "cycle cuts: 2\n",
      "|---\n",
      "|-\n",
      "|\n",
      "|-----\n",
      "|\n",
      "cycle cuts: 3\n",
      "|--\n",
      "|\n",
      "|\n",
      "|----\n",
      "|\n"
     ]
    }
   ],
   "source": []
  },
  {
   "cell_type": "code",
   "execution_count": null,
   "id": "81ed4a06",
   "metadata": {},
   "outputs": [],
   "source": []
  }
 ],
 "metadata": {
  "kernelspec": {
   "display_name": "Python 3",
   "language": "python",
   "name": "python3"
  },
  "language_info": {
   "codemirror_mode": {
    "name": "ipython",
    "version": 3
   },
   "file_extension": ".py",
   "mimetype": "text/x-python",
   "name": "python",
   "nbconvert_exporter": "python",
   "pygments_lexer": "ipython3",
   "version": "3.9.4"
  }
 },
 "nbformat": 4,
 "nbformat_minor": 5
}
